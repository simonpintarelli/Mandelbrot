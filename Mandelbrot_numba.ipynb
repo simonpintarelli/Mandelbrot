{
 "cells": [
  {
   "cell_type": "markdown",
   "metadata": {
    "ein.tags": "worksheet-0",
    "slideshow": {
     "slide_type": "-"
    }
   },
   "source": [
    "# Mandelbrot Menge"
   ]
  },
  {
   "cell_type": "markdown",
   "metadata": {
    "ein.tags": "worksheet-0",
    "slideshow": {
     "slide_type": "-"
    }
   },
   "source": [
    "Die Mandelbrot Menge ist die Menge aller Punkte aus der komplexen Ebene $c \\in \\mathbb{C}$, für welche die Iteration beginnend mit $z_0 = 0$\n",
    "$$\n",
    "z_{n+1} = z_n^2 +c\n",
    "$$\n",
    "beschränkt bleibt. [Wikipedia](https://de.wikipedia.org/wiki/Mandelbrot-Menge)"
   ]
  },
  {
   "cell_type": "code",
   "execution_count": 6,
   "metadata": {
    "autoscroll": false,
    "collapsed": false,
    "ein.hycell": false,
    "ein.tags": "worksheet-0",
    "slideshow": {
     "slide_type": "-"
    }
   },
   "outputs": [],
   "source": [
    "import numpy as np\n",
    "# matplotlib.org\n",
    "from matplotlib import pyplot as plt\n",
    "from matplotlib import colors\n",
    "from numba import jit\n",
    "\n",
    "# Verwende das Qt Backend um mit der Maus zu zoomen\n",
    "# %matplotlib qt\n",
    "%matplotlib inline"
   ]
  },
  {
   "cell_type": "code",
   "execution_count": 7,
   "metadata": {
    "autoscroll": false,
    "collapsed": false,
    "ein.hycell": false,
    "ein.tags": "worksheet-0",
    "slideshow": {
     "slide_type": "-"
    }
   },
   "outputs": [],
   "source": [
    "@jit(nopython=True)\n",
    "def mandelbrot(c, maxiter=80):\n",
    "    \"\"\"\n",
    "    z_{n+1} = z_n^2 + c\n",
    "    \"\"\"\n",
    "    z = c\n",
    "    for i in range(maxiter):\n",
    "        z = z*z + c\n",
    "        # Abbruchkriterium\n",
    "        if abs(z) > 2:\n",
    "            return i\n",
    "    else:\n",
    "        return maxiter"
   ]
  },
  {
   "cell_type": "code",
   "execution_count": 8,
   "metadata": {
    "autoscroll": false,
    "collapsed": false,
    "ein.hycell": false,
    "ein.tags": "worksheet-0",
    "slideshow": {
     "slide_type": "-"
    }
   },
   "outputs": [],
   "source": [
    "def get_limits(ax):\n",
    "    \"\"\"\n",
    "    Gibt die Koordinaten des aktuell\n",
    "    sichtbaren Bereichs zurueck.\n",
    "\n",
    "    Keyowrd Arguments:\n",
    "    ax -- matplotlib axes\n",
    "    \"\"\"\n",
    "    xb, xe = ax.set_xlim()\n",
    "    yb, ye = ax.set_ylim()\n",
    "    print('x: [%.4g, %.4g]' % (xb, xe))\n",
    "    print('y: [%.4g, %.4g]' % (yb, ye))\n",
    "    return xb, xe, yb, ye"
   ]
  },
  {
   "cell_type": "code",
   "execution_count": 9,
   "metadata": {
    "autoscroll": false,
    "collapsed": false,
    "ein.hycell": false,
    "ein.tags": "worksheet-0",
    "slideshow": {
     "slide_type": "-"
    }
   },
   "outputs": [],
   "source": [
    "def mandelbrot_image(xmin, xmax, ymin, ymax, nx=100, ny=100, maxiter=80, cmap='hot'):\n",
    "    x,y,z = mandelbrot_set(xmin, xmax, ymin, ymax, nx, ny, maxiter)\n",
    "    dy = ymax-ymin\n",
    "    dx = xmax-xmin\n",
    "\n",
    "    width = 15\n",
    "    height = dy*width/dx\n",
    "    print(width, 'x', height)\n",
    "    fig, ax = plt.subplots(figsize=(width, height))\n",
    "\n",
    "    norm = colors.PowerNorm(0.5)\n",
    "    im = ax.imshow(np.array(z),\n",
    "                   extent=[xmin, xmax, ymin, ymax],\n",
    "                   cmap=cmap,\n",
    "                   norm=norm,\n",
    "                   origin='lower')\n",
    "    plt.xlabel(r'$x$')\n",
    "    plt.ylabel(r'$y$')\n",
    "    return im, ax"
   ]
  },
  {
   "cell_type": "code",
   "execution_count": 10,
   "metadata": {
    "autoscroll": false,
    "collapsed": false,
    "ein.hycell": false,
    "ein.tags": "worksheet-0",
    "slideshow": {
     "slide_type": "-"
    }
   },
   "outputs": [],
   "source": [
    "@jit\n",
    "def mandelbrot_set(xmin, xmax,\n",
    "                   ymin, ymax,\n",
    "                   nx, ny,\n",
    "                   maxiter):\n",
    "    r1 = np.linspace(xmin, xmax, nx)\n",
    "    r2 = np.linspace(ymin, ymax, ny)\n",
    "    return (r1, r2,\n",
    "            # List comprehension\n",
    "            [[ mandelbrot(complex(i, j), maxiter) for i in r1 ] for j in r2])"
   ]
  },
  {
   "cell_type": "markdown",
   "metadata": {
    "ein.tags": "worksheet-0",
    "slideshow": {
     "slide_type": "-"
    }
   },
   "source": [
    "Wähle einen Ausschnitt"
   ]
  },
  {
   "cell_type": "code",
   "execution_count": 11,
   "metadata": {
    "autoscroll": false,
    "collapsed": false,
    "ein.hycell": false,
    "ein.tags": "worksheet-0",
    "slideshow": {
     "slide_type": "-"
    }
   },
   "outputs": [],
   "source": [
    "xb, xe, yb, ye = -2, 1, -1, 1"
   ]
  },
  {
   "cell_type": "markdown",
   "metadata": {
    "ein.tags": "worksheet-0",
    "slideshow": {
     "slide_type": "-"
    }
   },
   "source": [
    "### Erzeuge ein Bild der Mandelbrot Menge"
   ]
  },
  {
   "cell_type": "code",
   "execution_count": null,
   "metadata": {
    "autoscroll": false,
    "collapsed": false,
    "ein.hycell": false,
    "ein.tags": "worksheet-0",
    "slideshow": {
     "slide_type": "-"
    }
   },
   "outputs": [],
   "source": [
    "im, ax = mandelbrot_image(xb, xe, yb, ye, 2000, 2000, cmap='inferno')"
   ]
  },
  {
   "cell_type": "markdown",
   "metadata": {
    "ein.tags": "worksheet-0",
    "slideshow": {
     "slide_type": "-"
    }
   },
   "source": [
    "Wähle einen Bereich mit dem Vergrösserungglas, mit der Funktion `get_box` (siehe nächste Zelle)\n",
    "können die Bereiche für $x$ und $y$ aus dem aktuellen Plot ausgelesen werden."
   ]
  },
  {
   "cell_type": "code",
   "execution_count": null,
   "metadata": {
    "autoscroll": false,
    "collapsed": false,
    "ein.hycell": false,
    "ein.tags": "worksheet-0",
    "slideshow": {
     "slide_type": "-"
    }
   },
   "outputs": [],
   "source": [
    "xb, xe, yb, ye = get_box(ax)\n",
    "# Führe nun die vorherige Zelle aus um den Ausschnit neu zu berechnen.\n"
   ]
  }
 ],
 "metadata": {
  "kernelspec": {
   "display_name": "Python 3",
   "name": "python3"
  },
  "language_info": {
   "codemirror_mode": {
    "name": "ipython",
    "version": 3
   },
   "file_extension": ".py",
   "mimetype": "text/x-python",
   "name": "python",
   "nbconvert_exporter": "python",
   "pygments_lexer": "ipython3",
   "version": "3.7.1"
  },
  "name": "Mandelbrot_numba.ipynb"
 },
 "nbformat": 4,
 "nbformat_minor": 2
}
